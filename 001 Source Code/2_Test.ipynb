{
 "cells": [
  {
   "cell_type": "code",
   "execution_count": null,
   "metadata": {},
   "outputs": [],
   "source": [
    "import tensorflow as tf\n",
    "from tensorflow import keras\n",
    "from tensorflow.keras import models\n",
    "from tensorflow.python.client import device_lib\n",
    "import matplotlib.pyplot as plt\n",
    "import h5py\n",
    "import time\n",
    "import numpy as np\n",
    "import scipy.io as sio\n",
    "from scipy import io\n",
    "import mat73\n",
    "import math\n",
    " \n",
    "print(device_lib.list_local_devices())\n",
    "\n",
    "gpus = tf.config.experimental.list_physical_devices('GPU')\n",
    "if gpus:\n",
    "    try:\n",
    "    # Currently, memory growth needs to be the same across GPUs\n",
    "        for gpu in gpus:\n",
    "            tf.config.experimental.set_memory_growth(gpu, True)\n",
    "        logical_gpus = tf.config.experimental.list_logical_devices('GPU')\n",
    "        print(len(gpus), \"Physical GPUs,\", len(logical_gpus), \"Logical GPUs\")\n",
    "    except RuntimeError as e:\n",
    "    # Memory growth must be set before GPUs have been initialized\n",
    "    \n",
    "        print(e)"
   ]
  },
  {
   "cell_type": "markdown",
   "metadata": {},
   "source": [
    "## Test"
   ]
  },
  {
   "cell_type": "code",
   "execution_count": null,
   "metadata": {},
   "outputs": [],
   "source": [
    "N_node = 4\n",
    "Bound= 1\n",
    "N=math.comb(N_node,2)\n",
    "N_data_test = 1000\n",
    " \n",
    "num = N_node*2-3\n",
    "pred_position = np.zeros((N_data_test,N_node*2))\n",
    "ae_distance = np.zeros((1, N))\n",
    "mse_distance = np.zeros((1, N_node))\n",
    " \n",
    "start = time.time()\n",
    "    \n",
    "    \n",
    "model = keras.models.load_model('./model.h5')\n",
    "test_data = sio.loadmat('./testset.mat')\n",
    "X_test = np.transpose(np.array(test_data['distance']))\n",
    "target_position = np.transpose(np.array(test_data['node_position']))\n",
    "\n",
    "pred = np.squeeze(np.transpose(np.array(model.predict(X_test))))\n",
    "\n",
    "err_distance = np.zeros((N_data_test, N_node))\n",
    "\n",
    "for idx in range(0, N_data_test):\n",
    "    cnt=0 \n",
    "    for idx2 in range(0, 2*N_node, 2):\n",
    "        err_distance[idx, cnt] = np.square(pred_position[idx, idx2]-target_position[idx, idx2]) + np.square((pred_position[idx, idx2+1]-target_position[idx, idx2+1]))\n",
    "        cnt=cnt+1\n",
    "        \n",
    "        \n",
    "for idx in range(0, N_node):\n",
    "    ae_distance = np.mean(np.abs(np.sqrt(err_distance[:, idx])))\n",
    "\n",
    "mae= np.mean(ae_distance)\n",
    "    \n",
    "sum=0\n",
    "for idx in range(0, N_node):\n",
    "    mse_distance[1, idx] = np.mean(err_distance[:, idx])\n",
    "    sum = sum + mse_distance[1, idx]  \n",
    "    \n",
    "rmse = np.sqrt(sum/N_node)    \n",
    "    \n",
    "print('소요 시간 :', time.time() - start)\n",
    "\n",
    "np.savez('./performance.npz', mae=mae,mean_rmse=rmse)"
   ]
  }
 ],
 "metadata": {
  "language_info": {
   "name": "python"
  }
 },
 "nbformat": 4,
 "nbformat_minor": 2
}
